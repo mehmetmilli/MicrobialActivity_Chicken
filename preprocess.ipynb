{
 "cells": [
  {
   "cell_type": "code",
   "execution_count": 1,
   "id": "ed704880",
   "metadata": {},
   "outputs": [],
   "source": [
    "import time\n",
    "import pickle\n",
    "import numpy as np\n",
    "from datetime import datetime\n",
    "import plotly.graph_objects as go\n",
    "from labels import label_datetimes\n",
    "from scipy.interpolate import UnivariateSpline"
   ]
  },
  {
   "cell_type": "code",
   "execution_count": 7,
   "id": "ca36edec",
   "metadata": {},
   "outputs": [],
   "source": [
    "def get_ts(date_str):\n",
    "    ts = time.mktime(datetime.strptime(\n",
    "        date_str, \"%Y-%m-%d %H:%M:%S\").timetuple())\n",
    "    return int(ts)"
   ]
  },
  {
   "cell_type": "code",
   "execution_count": 8,
   "id": "fb611445",
   "metadata": {},
   "outputs": [],
   "source": [
    "def get_values_between_dates(matrix, sensor_idx, sensor_data, start_date, end_date):\n",
    "    start_ts = get_ts(start_date)\n",
    "    end_ts = get_ts(end_date)\n",
    "    t = np.linspace(start_ts, end_ts, 100)\n",
    "    result = {\"t\": t, \"hps\": []}\n",
    "    for hp in range(10):\n",
    "        df = sensor_data[matrix][sensor_idx][hp]\n",
    "        df_interval = df[(df[\"Real time clock\"] >= start_ts - 100)\n",
    "                         & (df[\"Real time clock\"] <= end_ts + 100)]\n",
    "\n",
    "        rtc = df_interval[\"Real time clock\"].values\n",
    "        gas = df_interval[\"Resistance Gassensor\"].values\n",
    "\n",
    "        interpolation_func = UnivariateSpline(rtc, gas, s=0)\n",
    "\n",
    "        y = interpolation_func(t)\n",
    "        result[\"hps\"].append(y)\n",
    "\n",
    "    return result"
   ]
  },
  {
   "cell_type": "code",
   "execution_count": 10,
   "id": "95b6e3b3",
   "metadata": {},
   "outputs": [],
   "source": [
    "DAY = 13\n",
    "label = next((i for i in label_datetimes if i[\"day\"] == DAY), None)\n",
    "\n",
    "with open(f\"data/day_{DAY}/raw.pkl\", \"rb\") as f:\n",
    "    raw_data = pickle.load(f)\n",
    "\n",
    "interp_data = {\"air\": [], \"sample\": []}\n",
    "for matrix in interp_data:\n",
    "    for s_idx in range(8):\n",
    "        s_data = get_values_between_dates(\n",
    "            matrix,\n",
    "            s_idx,\n",
    "            raw_data,\n",
    "            label[\"start\"],\n",
    "            label[\"end\"])\n",
    "\n",
    "        interp_data[matrix].append(s_data)\n",
    "\n",
    "with open(f\"data/day_{DAY}/interp.pkl\", \"wb\") as f:\n",
    "    pickle.dump(interp_data, f)"
   ]
  },
  {
   "cell_type": "code",
   "execution_count": null,
   "id": "908fce1b",
   "metadata": {},
   "outputs": [],
   "source": []
  }
 ],
 "metadata": {
  "kernelspec": {
   "display_name": "mlenv",
   "language": "python",
   "name": "python3"
  },
  "language_info": {
   "codemirror_mode": {
    "name": "ipython",
    "version": 3
   },
   "file_extension": ".py",
   "mimetype": "text/x-python",
   "name": "python",
   "nbconvert_exporter": "python",
   "pygments_lexer": "ipython3",
   "version": "3.12.2"
  }
 },
 "nbformat": 4,
 "nbformat_minor": 5
}
